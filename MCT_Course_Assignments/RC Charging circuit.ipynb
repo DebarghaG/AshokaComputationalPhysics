{
 "cells": [
  {
   "cell_type": "code",
   "execution_count": 2,
   "metadata": {
    "collapsed": true
   },
   "outputs": [],
   "source": [
    "import matplotlib.pyplot as plt\n",
    "%matplotlib inline\n",
    "import numpy as np"
   ]
  },
  {
   "cell_type": "code",
   "execution_count": null,
   "metadata": {
    "collapsed": true
   },
   "outputs": [],
   "source": [
    "x = np.arange(0,10,0.01)\n",
    "a = float(input(\"C = \"))\n",
    "b = float(input(\"R = \"))\n",
    "c = float(input(\"V = \"))\n",
    "y = a*b*(1-np.exp(-x/(a*b)))\n",
    "plt.plot(x,y, label = \" Simple RC circuit oscillation \")\n",
    "plt.xlabel(\"time\", size = 20)\n",
    "plt.ylabel(\"charge\",size = 20)\n",
    "plt.legend()\n",
    "plt.show()"
   ]
  }
 ],
 "metadata": {
  "kernelspec": {
   "display_name": "Python 3",
   "language": "python",
   "name": "python3"
  },
  "language_info": {
   "codemirror_mode": {
    "name": "ipython",
    "version": 3
   },
   "file_extension": ".py",
   "mimetype": "text/x-python",
   "name": "python",
   "nbconvert_exporter": "python",
   "pygments_lexer": "ipython3",
   "version": "3.6.3"
  }
 },
 "nbformat": 4,
 "nbformat_minor": 2
}
